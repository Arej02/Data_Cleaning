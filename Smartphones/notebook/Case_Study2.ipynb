{
 "cells": [
  {
   "cell_type": "markdown",
   "id": "77945b7e-d05f-4296-a9c4-c3cae19d0d5b",
   "metadata": {},
   "source": [
    "# Data Ascessing"
   ]
  },
  {
   "cell_type": "markdown",
   "id": "c7fe6960-de6c-46da-b753-56127c97a05e",
   "metadata": {},
   "source": [
    "### Structural Issue:\n",
    "1. **rating**: 13.8% Missing Values\n",
    "2. **os**: 1.66% Missing Values\n",
    "3. **card**: 0.69% Missing Values\n",
    "4. **price**:There is ₹ and comma which needs to be removed (₹54,999).\n",
    "5. **camera**: 0.098% Missing Value\n",
    "\n",
    "### Tideness Issue:\n",
    "1. **model**: Some phones also have information about it's storage which is not required in this column\n",
    "2. **sim**: Has a lot of information like (Dual Sim, 3G, 4G, 5G, VoLTE, Wi-Fi, NFC), so we can create seperate column for everything.\n",
    "3. **ram**:It contains both the values of RAM and ROM, so need to sepetate it.\n",
    "4. **batter**: It also contains a lot of information, so I think we need to make new features (5000 mAh Battery with 100W Fast Charging)\n"
   ]
  },
  {
   "cell_type": "markdown",
   "id": "4b695e1c-efd4-4e09-922c-445ff0fa486c",
   "metadata": {},
   "source": [
    "### Importing the required libraries:"
   ]
  },
  {
   "cell_type": "code",
   "execution_count": 1,
   "id": "53904b32-c353-4694-b996-542e4972cf32",
   "metadata": {},
   "outputs": [],
   "source": [
    "import pandas as pd\n",
    "import numpy as np\n",
    "import matplotlib.pylab as plt\n",
    "plt.style.use('fivethirtyeight')\n",
    "import seaborn as sns"
   ]
  },
  {
   "cell_type": "code",
   "execution_count": 2,
   "id": "836e0689-d689-43c5-b9f9-3decc8e1c6fa",
   "metadata": {},
   "outputs": [
    {
     "data": {
      "text/plain": [
       "(1020, 11)"
      ]
     },
     "execution_count": 2,
     "metadata": {},
     "output_type": "execute_result"
    }
   ],
   "source": [
    "smartphones=pd.read_excel(\"../dataset/smartphones.xlsx\")\n",
    "smartphones.shape"
   ]
  },
  {
   "cell_type": "code",
   "execution_count": 3,
   "id": "e42b25be-c4d1-4022-8720-5a9feefa13bc",
   "metadata": {},
   "outputs": [
    {
     "data": {
      "text/html": [
       "<div>\n",
       "<style scoped>\n",
       "    .dataframe tbody tr th:only-of-type {\n",
       "        vertical-align: middle;\n",
       "    }\n",
       "\n",
       "    .dataframe tbody tr th {\n",
       "        vertical-align: top;\n",
       "    }\n",
       "\n",
       "    .dataframe thead th {\n",
       "        text-align: right;\n",
       "    }\n",
       "</style>\n",
       "<table border=\"1\" class=\"dataframe\">\n",
       "  <thead>\n",
       "    <tr style=\"text-align: right;\">\n",
       "      <th></th>\n",
       "      <th>model</th>\n",
       "      <th>price</th>\n",
       "      <th>rating</th>\n",
       "      <th>sim</th>\n",
       "      <th>processor</th>\n",
       "      <th>ram</th>\n",
       "      <th>battery</th>\n",
       "      <th>display</th>\n",
       "      <th>camera</th>\n",
       "      <th>card</th>\n",
       "      <th>os</th>\n",
       "    </tr>\n",
       "  </thead>\n",
       "  <tbody>\n",
       "    <tr>\n",
       "      <th>971</th>\n",
       "      <td>iQOO 7 Legend</td>\n",
       "      <td>₹39,990</td>\n",
       "      <td>84.0</td>\n",
       "      <td>Dual Sim, 3G, 4G, 5G, VoLTE, Wi-Fi, NFC</td>\n",
       "      <td>Snapdragon  888 , Octa Core, 2.84 GHz Processor</td>\n",
       "      <td>8 GB RAM, 128 GB inbuilt</td>\n",
       "      <td>4000 mAh Battery with 66W Fast Charging</td>\n",
       "      <td>6.62 inches, 1080 x 2400 px, 120 Hz Display wi...</td>\n",
       "      <td>48 MP + 13 MP + 13 MP Triple Rear &amp; 16 MP Fron...</td>\n",
       "      <td>Android v11</td>\n",
       "      <td>No FM Radio</td>\n",
       "    </tr>\n",
       "    <tr>\n",
       "      <th>64</th>\n",
       "      <td>Poco M4 Pro 5G (6GB RAM + 128GB)</td>\n",
       "      <td>₹14,999</td>\n",
       "      <td>81.0</td>\n",
       "      <td>Dual Sim, 3G, 4G, 5G, VoLTE, Wi-Fi, IR Blaster</td>\n",
       "      <td>Dimensity  810 5G, Octa Core, 2.4 GHz Processor</td>\n",
       "      <td>6 GB RAM, 128 GB inbuilt</td>\n",
       "      <td>5000 mAh Battery with 33W Fast Charging</td>\n",
       "      <td>6.6 inches, 1080 x 2400 px, 90 Hz Display with...</td>\n",
       "      <td>50 MP + 8 MP Dual Rear &amp; 16 MP Front Camera</td>\n",
       "      <td>Memory Card (Hybrid), upto 1 TB</td>\n",
       "      <td>Android v11</td>\n",
       "    </tr>\n",
       "    <tr>\n",
       "      <th>240</th>\n",
       "      <td>Xiaomi Redmi Note 12 Explorer</td>\n",
       "      <td>₹24,999</td>\n",
       "      <td>89.0</td>\n",
       "      <td>Dual Sim, 3G, 4G, 5G, VoLTE, Wi-Fi, NFC, IR Bl...</td>\n",
       "      <td>Dimensity 1080, Octa Core, 2.6 GHz Processor</td>\n",
       "      <td>8 GB RAM, 256 GB inbuilt</td>\n",
       "      <td>4300 mAh Battery with 120W Fast Charging</td>\n",
       "      <td>6.67 inches, 1080 x 2400 px, 120 Hz Display wi...</td>\n",
       "      <td>200 MP + 8 MP + 2 MP Triple Rear &amp; 16 MP Front...</td>\n",
       "      <td>Memory Card Supported, upto 512 GB</td>\n",
       "      <td>Android v12</td>\n",
       "    </tr>\n",
       "    <tr>\n",
       "      <th>629</th>\n",
       "      <td>Sony Xperia 1 II</td>\n",
       "      <td>₹69,999</td>\n",
       "      <td>89.0</td>\n",
       "      <td>Dual Sim, 3G, 4G, 5G, VoLTE, Wi-Fi, NFC</td>\n",
       "      <td>Snapdragon  865 , Octa Core, 2.84 GHz Processor</td>\n",
       "      <td>8 GB RAM, 256 GB inbuilt</td>\n",
       "      <td>4000 mAh Battery with 21W Fast Charging</td>\n",
       "      <td>6.5 inches, 1644 x 3840 px Display</td>\n",
       "      <td>12 MP Quad Rear &amp; 8 MP Front Camera</td>\n",
       "      <td>Memory Card (Hybrid)</td>\n",
       "      <td>Android v10</td>\n",
       "    </tr>\n",
       "    <tr>\n",
       "      <th>280</th>\n",
       "      <td>Asus ROG Phone 6 Pro 5G</td>\n",
       "      <td>₹89,999</td>\n",
       "      <td>88.0</td>\n",
       "      <td>Dual Sim, 3G, 4G, 5G, VoLTE, Wi-Fi, NFC</td>\n",
       "      <td>Snapdragon 8+ Gen1, Octa Core, 3.2 GHz Processor</td>\n",
       "      <td>18 GB RAM, 512 GB inbuilt</td>\n",
       "      <td>6000 mAh Battery with 65W Fast Charging</td>\n",
       "      <td>6.78 inches, 1080 x 2448 px, 165 Hz Display</td>\n",
       "      <td>50 MP + 13 MP + 5 MP Triple Rear &amp; 12 MP Front...</td>\n",
       "      <td>Memory Card Not Supported</td>\n",
       "      <td>Android v12</td>\n",
       "    </tr>\n",
       "  </tbody>\n",
       "</table>\n",
       "</div>"
      ],
      "text/plain": [
       "                                model    price  rating  \\\n",
       "971                     iQOO 7 Legend  ₹39,990    84.0   \n",
       "64   Poco M4 Pro 5G (6GB RAM + 128GB)  ₹14,999    81.0   \n",
       "240     Xiaomi Redmi Note 12 Explorer  ₹24,999    89.0   \n",
       "629                  Sony Xperia 1 II  ₹69,999    89.0   \n",
       "280           Asus ROG Phone 6 Pro 5G  ₹89,999    88.0   \n",
       "\n",
       "                                                   sim  \\\n",
       "971            Dual Sim, 3G, 4G, 5G, VoLTE, Wi-Fi, NFC   \n",
       "64      Dual Sim, 3G, 4G, 5G, VoLTE, Wi-Fi, IR Blaster   \n",
       "240  Dual Sim, 3G, 4G, 5G, VoLTE, Wi-Fi, NFC, IR Bl...   \n",
       "629            Dual Sim, 3G, 4G, 5G, VoLTE, Wi-Fi, NFC   \n",
       "280            Dual Sim, 3G, 4G, 5G, VoLTE, Wi-Fi, NFC   \n",
       "\n",
       "                                            processor  \\\n",
       "971   Snapdragon  888 , Octa Core, 2.84 GHz Processor   \n",
       "64    Dimensity  810 5G, Octa Core, 2.4 GHz Processor   \n",
       "240      Dimensity 1080, Octa Core, 2.6 GHz Processor   \n",
       "629   Snapdragon  865 , Octa Core, 2.84 GHz Processor   \n",
       "280  Snapdragon 8+ Gen1, Octa Core, 3.2 GHz Processor   \n",
       "\n",
       "                           ram                                   battery  \\\n",
       "971   8 GB RAM, 128 GB inbuilt   4000 mAh Battery with 66W Fast Charging   \n",
       "64    6 GB RAM, 128 GB inbuilt   5000 mAh Battery with 33W Fast Charging   \n",
       "240   8 GB RAM, 256 GB inbuilt  4300 mAh Battery with 120W Fast Charging   \n",
       "629   8 GB RAM, 256 GB inbuilt   4000 mAh Battery with 21W Fast Charging   \n",
       "280  18 GB RAM, 512 GB inbuilt   6000 mAh Battery with 65W Fast Charging   \n",
       "\n",
       "                                               display  \\\n",
       "971  6.62 inches, 1080 x 2400 px, 120 Hz Display wi...   \n",
       "64   6.6 inches, 1080 x 2400 px, 90 Hz Display with...   \n",
       "240  6.67 inches, 1080 x 2400 px, 120 Hz Display wi...   \n",
       "629                 6.5 inches, 1644 x 3840 px Display   \n",
       "280        6.78 inches, 1080 x 2448 px, 165 Hz Display   \n",
       "\n",
       "                                                camera  \\\n",
       "971  48 MP + 13 MP + 13 MP Triple Rear & 16 MP Fron...   \n",
       "64         50 MP + 8 MP Dual Rear & 16 MP Front Camera   \n",
       "240  200 MP + 8 MP + 2 MP Triple Rear & 16 MP Front...   \n",
       "629                12 MP Quad Rear & 8 MP Front Camera   \n",
       "280  50 MP + 13 MP + 5 MP Triple Rear & 12 MP Front...   \n",
       "\n",
       "                                   card           os  \n",
       "971                         Android v11  No FM Radio  \n",
       "64      Memory Card (Hybrid), upto 1 TB  Android v11  \n",
       "240  Memory Card Supported, upto 512 GB  Android v12  \n",
       "629                Memory Card (Hybrid)  Android v10  \n",
       "280           Memory Card Not Supported  Android v12  "
      ]
     },
     "execution_count": 3,
     "metadata": {},
     "output_type": "execute_result"
    }
   ],
   "source": [
    "smartphones.sample(5)"
   ]
  },
  {
   "cell_type": "code",
   "execution_count": 4,
   "id": "85030324-514b-4b7c-a84a-01c370977201",
   "metadata": {},
   "outputs": [
    {
     "name": "stdout",
     "output_type": "stream",
     "text": [
      "<class 'pandas.core.frame.DataFrame'>\n",
      "RangeIndex: 1020 entries, 0 to 1019\n",
      "Data columns (total 11 columns):\n",
      " #   Column     Non-Null Count  Dtype  \n",
      "---  ------     --------------  -----  \n",
      " 0   model      1020 non-null   object \n",
      " 1   price      1020 non-null   object \n",
      " 2   rating     879 non-null    float64\n",
      " 3   sim        1020 non-null   object \n",
      " 4   processor  1020 non-null   object \n",
      " 5   ram        1020 non-null   object \n",
      " 6   battery    1020 non-null   object \n",
      " 7   display    1020 non-null   object \n",
      " 8   camera     1019 non-null   object \n",
      " 9   card       1013 non-null   object \n",
      " 10  os         1003 non-null   object \n",
      "dtypes: float64(1), object(10)\n",
      "memory usage: 87.8+ KB\n"
     ]
    }
   ],
   "source": [
    "smartphones.info()"
   ]
  },
  {
   "cell_type": "markdown",
   "id": "ce461432-0a49-4618-9b50-75b1cffc90e2",
   "metadata": {},
   "source": [
    "#### Dealing with missing values:"
   ]
  },
  {
   "cell_type": "code",
   "execution_count": 5,
   "id": "4ecc102d-dca5-4370-a00b-c05223ff5399",
   "metadata": {},
   "outputs": [
    {
     "data": {
      "text/plain": [
       "model         0.000000\n",
       "price         0.000000\n",
       "rating       13.823529\n",
       "sim           0.000000\n",
       "processor     0.000000\n",
       "ram           0.000000\n",
       "battery       0.000000\n",
       "display       0.000000\n",
       "camera        0.098039\n",
       "card          0.686275\n",
       "os            1.666667\n",
       "dtype: float64"
      ]
     },
     "execution_count": 5,
     "metadata": {},
     "output_type": "execute_result"
    }
   ],
   "source": [
    "smartphones.isnull().mean()*100"
   ]
  },
  {
   "cell_type": "code",
   "execution_count": 6,
   "id": "c576b73e-baea-4942-9e29-3273abfea21d",
   "metadata": {},
   "outputs": [],
   "source": [
    "missing_mean=smartphones.isnull().mean()*100"
   ]
  },
  {
   "cell_type": "code",
   "execution_count": 7,
   "id": "f92b1c7d-c0fe-4a1b-b80f-54b43654fba3",
   "metadata": {},
   "outputs": [
    {
     "data": {
      "text/plain": [
       "['camera', 'card', 'os']"
      ]
     },
     "execution_count": 7,
     "metadata": {},
     "output_type": "execute_result"
    }
   ],
   "source": [
    "#Dealing with features with missing values less than 5%:\n",
    "missing_col=[col for col in smartphones.columns if 0<missing_mean[col]<5]\n",
    "missing_col"
   ]
  },
  {
   "cell_type": "code",
   "execution_count": 8,
   "id": "c5ffbee0-f84a-4ac4-b4cd-f3fbfe518dc4",
   "metadata": {},
   "outputs": [
    {
     "name": "stdout",
     "output_type": "stream",
     "text": [
      "We still have 98.33% data left\n"
     ]
    }
   ],
   "source": [
    "#Since the missing value is less than 5%, I'll remove these values.\n",
    "print(f\"We still have {round((len(smartphones.dropna(subset=missing_col))/smartphones.shape[0])*100,2)}% data left\")"
   ]
  },
  {
   "cell_type": "markdown",
   "id": "b42577f2-b3c2-4b55-85fb-296860b0dd41",
   "metadata": {},
   "source": [
    "#### Working on the price feature"
   ]
  },
  {
   "cell_type": "code",
   "execution_count": 9,
   "id": "e6c50475-8413-4bf4-b59d-641c2c26ca52",
   "metadata": {},
   "outputs": [
    {
     "data": {
      "text/plain": [
       "0    ₹54,999\n",
       "1    ₹19,989\n",
       "2    ₹16,499\n",
       "Name: price, dtype: object"
      ]
     },
     "execution_count": 9,
     "metadata": {},
     "output_type": "execute_result"
    }
   ],
   "source": [
    "smartphones['price'].head(3)"
   ]
  },
  {
   "cell_type": "code",
   "execution_count": 10,
   "id": "57e85d2a-efbd-4511-ba34-bf4b48e3090a",
   "metadata": {},
   "outputs": [
    {
     "data": {
      "text/html": [
       "<div>\n",
       "<style scoped>\n",
       "    .dataframe tbody tr th:only-of-type {\n",
       "        vertical-align: middle;\n",
       "    }\n",
       "\n",
       "    .dataframe tbody tr th {\n",
       "        vertical-align: top;\n",
       "    }\n",
       "\n",
       "    .dataframe thead th {\n",
       "        text-align: right;\n",
       "    }\n",
       "</style>\n",
       "<table border=\"1\" class=\"dataframe\">\n",
       "  <thead>\n",
       "    <tr style=\"text-align: right;\">\n",
       "      <th></th>\n",
       "      <th>model</th>\n",
       "      <th>price</th>\n",
       "      <th>rating</th>\n",
       "      <th>sim</th>\n",
       "      <th>processor</th>\n",
       "      <th>ram</th>\n",
       "      <th>battery</th>\n",
       "      <th>display</th>\n",
       "      <th>camera</th>\n",
       "      <th>card</th>\n",
       "      <th>os</th>\n",
       "    </tr>\n",
       "  </thead>\n",
       "  <tbody>\n",
       "    <tr>\n",
       "      <th>581</th>\n",
       "      <td>OPPO A77 (4GB RAM + 128 GB)</td>\n",
       "      <td>15998</td>\n",
       "      <td>71.0</td>\n",
       "      <td>Dual Sim, 3G, 4G, VoLTE, Wi-Fi</td>\n",
       "      <td>Helio G35, Octa Core, 2.3 GHz Processor</td>\n",
       "      <td>4 GB RAM, 128 GB inbuilt</td>\n",
       "      <td>5000 mAh Battery with 33W Fast Charging</td>\n",
       "      <td>6.56 inches, 720 x 1600 px Display with Water ...</td>\n",
       "      <td>50 MP Dual Rear &amp; 8 MP Front Camera</td>\n",
       "      <td>Memory Card Supported</td>\n",
       "      <td>Android v12</td>\n",
       "    </tr>\n",
       "    <tr>\n",
       "      <th>904</th>\n",
       "      <td>OnePlus 9T</td>\n",
       "      <td>44999</td>\n",
       "      <td>86.0</td>\n",
       "      <td>Dual Sim, 3G, 4G, 5G, VoLTE, Wi-Fi, NFC</td>\n",
       "      <td>Snapdragon 888, Octa Core, 2.84 GHz Processor</td>\n",
       "      <td>8 GB RAM, 128 GB inbuilt</td>\n",
       "      <td>4500 mAh Battery with 65W Fast Charging</td>\n",
       "      <td>6.55 inches, 1080 x 2400 px, 120 Hz Display wi...</td>\n",
       "      <td>108 MP Quad Rear &amp; 16 MP Front Camera</td>\n",
       "      <td>Memory Card Not Supported</td>\n",
       "      <td>Android v11</td>\n",
       "    </tr>\n",
       "    <tr>\n",
       "      <th>171</th>\n",
       "      <td>Xiaomi Redmi Note 13 Pro Max 5G</td>\n",
       "      <td>20499</td>\n",
       "      <td>83.0</td>\n",
       "      <td>Dual Sim, 3G, 4G, 5G, VoLTE, Wi-Fi, IR Blaster</td>\n",
       "      <td>Snapdragon  7 Gen1, Octa Core, 2.36 GHz Processor</td>\n",
       "      <td>6 GB RAM, 128 GB inbuilt</td>\n",
       "      <td>5200 mAh Battery with 67W Fast Charging</td>\n",
       "      <td>6.67 inches, 1080 x 2460 px, 120 Hz Display wi...</td>\n",
       "      <td>108 MP Quad Rear &amp; 32 MP Front Camera</td>\n",
       "      <td>Memory Card Supported, upto 512 GB</td>\n",
       "      <td>Android v12</td>\n",
       "    </tr>\n",
       "  </tbody>\n",
       "</table>\n",
       "</div>"
      ],
      "text/plain": [
       "                               model  price  rating  \\\n",
       "581      OPPO A77 (4GB RAM + 128 GB)  15998    71.0   \n",
       "904                       OnePlus 9T  44999    86.0   \n",
       "171  Xiaomi Redmi Note 13 Pro Max 5G  20499    83.0   \n",
       "\n",
       "                                                sim  \\\n",
       "581                  Dual Sim, 3G, 4G, VoLTE, Wi-Fi   \n",
       "904         Dual Sim, 3G, 4G, 5G, VoLTE, Wi-Fi, NFC   \n",
       "171  Dual Sim, 3G, 4G, 5G, VoLTE, Wi-Fi, IR Blaster   \n",
       "\n",
       "                                             processor  \\\n",
       "581            Helio G35, Octa Core, 2.3 GHz Processor   \n",
       "904      Snapdragon 888, Octa Core, 2.84 GHz Processor   \n",
       "171  Snapdragon  7 Gen1, Octa Core, 2.36 GHz Processor   \n",
       "\n",
       "                          ram                                  battery  \\\n",
       "581  4 GB RAM, 128 GB inbuilt  5000 mAh Battery with 33W Fast Charging   \n",
       "904  8 GB RAM, 128 GB inbuilt  4500 mAh Battery with 65W Fast Charging   \n",
       "171  6 GB RAM, 128 GB inbuilt  5200 mAh Battery with 67W Fast Charging   \n",
       "\n",
       "                                               display  \\\n",
       "581  6.56 inches, 720 x 1600 px Display with Water ...   \n",
       "904  6.55 inches, 1080 x 2400 px, 120 Hz Display wi...   \n",
       "171  6.67 inches, 1080 x 2460 px, 120 Hz Display wi...   \n",
       "\n",
       "                                    camera  \\\n",
       "581    50 MP Dual Rear & 8 MP Front Camera   \n",
       "904  108 MP Quad Rear & 16 MP Front Camera   \n",
       "171  108 MP Quad Rear & 32 MP Front Camera   \n",
       "\n",
       "                                   card           os  \n",
       "581               Memory Card Supported  Android v12  \n",
       "904           Memory Card Not Supported  Android v11  \n",
       "171  Memory Card Supported, upto 512 GB  Android v12  "
      ]
     },
     "execution_count": 10,
     "metadata": {},
     "output_type": "execute_result"
    }
   ],
   "source": [
    "smartphones['price']=smartphones['price'].str.replace(\"₹\",'')\n",
    "smartphones['price']=smartphones['price'].str.replace(\",\",'')\n",
    "smartphones['price']=smartphones['price'].astype('int32')\n",
    "smartphones.sample(3)"
   ]
  }
 ],
 "metadata": {
  "kernelspec": {
   "display_name": "Python 3 (ipykernel)",
   "language": "python",
   "name": "python3"
  },
  "language_info": {
   "codemirror_mode": {
    "name": "ipython",
    "version": 3
   },
   "file_extension": ".py",
   "mimetype": "text/x-python",
   "name": "python",
   "nbconvert_exporter": "python",
   "pygments_lexer": "ipython3",
   "version": "3.13.0"
  }
 },
 "nbformat": 4,
 "nbformat_minor": 5
}
