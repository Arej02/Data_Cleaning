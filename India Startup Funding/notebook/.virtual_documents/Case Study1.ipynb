








import pandas as pd
import matplotlib.pylab as plt
plt.style.use("fivethirtyeight")
import seaborn as sns


startup=pd.read_csv("../dataset/startup_funding.csv")
startup.shape


startup.sample(3)


startup.info()


startup.isnull().mean()*100


(len(startup.dropna(subset=['InvestmentnType','Investors Name']))/startup.shape[0])*100


startup.dropna(subset=['InvestmentnType','Investors Name'],inplace=True)





startup.isnull().mean()*100


startup['Amount in USD'].nunique() 


cleaned_startup=startup[~startup['Amount in USD'].str.lower().isin(['unknown','undisclosed'])]








cleaned_startup['Amount in USD']=cleaned_startup['Amount in USD'].fillna('0')


cleaned_startup


cleaned_startup=cleaned_startup[cleaned_startup['Amount in USD'].str.isdigit()]


cleaned_startup['Amount in USD'].astype(int)









