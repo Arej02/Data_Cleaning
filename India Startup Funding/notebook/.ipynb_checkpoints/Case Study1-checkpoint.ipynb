{
 "cells": [
  {
   "cell_type": "markdown",
   "id": "37b014f4-324f-4a38-8d1c-6e6c677cd533",
   "metadata": {},
   "source": [
    "# Data Cleaning:"
   ]
  },
  {
   "cell_type": "markdown",
   "id": "47bc876e-28bc-4258-bf44-2a64135f6ac6",
   "metadata": {},
   "source": [
    "### Data Ascessing"
   ]
  },
  {
   "cell_type": "markdown",
   "id": "7e18162e-714a-4c4e-aa1b-5d096a1fc293",
   "metadata": {},
   "source": [
    "1. **Quality Issues**:\n",
    "   \n",
    "   - **Investor**: A lot of items seperated by commas + Missing Values (Consistency)\n",
    "   - **Amount**: Unknown and Disclosed value + 31% missing values (Accuracy) + Incorrect Datatype (Should be integer)\n",
    "   - **Remark**: 86% missing values and Nan (Consistency)\n",
    "   - **City Location**: 6% missing value\n",
    "     \n",
    "2. **Tideness Issues**:\n",
    "   \n",
    "   - **Starttup Name**: Links, explanantion marks.\n",
    "   - **Industry Vertical**: Not Consistent (E-commerce, E-Commerce) + 5% missing value\n",
    "   - **City Location**: Unnecessary commas in some rows\n",
    "   - **Sr.No**: Will set this as the index"
   ]
  },
  {
   "cell_type": "code",
   "execution_count": 24,
   "id": "4db45cc6-7ff2-47dc-80f8-e694af345f5c",
   "metadata": {},
   "outputs": [],
   "source": [
    "import pandas as pd\n",
    "import numpy as np\n",
    "import matplotlib.pylab as plt\n",
    "plt.style.use(\"fivethirtyeight\")\n",
    "import seaborn as sns"
   ]
  },
  {
   "cell_type": "code",
   "execution_count": 25,
   "id": "4bc04a3d-4092-4de1-859f-51b54e69cffa",
   "metadata": {},
   "outputs": [
    {
     "data": {
      "text/plain": [
       "(3044, 10)"
      ]
     },
     "execution_count": 25,
     "metadata": {},
     "output_type": "execute_result"
    }
   ],
   "source": [
    "startup=pd.read_csv(\"../dataset/startup_funding.csv\")\n",
    "startup.shape"
   ]
  },
  {
   "cell_type": "code",
   "execution_count": 26,
   "id": "39e18540-d364-4c23-b154-92bc51295917",
   "metadata": {},
   "outputs": [
    {
     "data": {
      "text/html": [
       "<div>\n",
       "<style scoped>\n",
       "    .dataframe tbody tr th:only-of-type {\n",
       "        vertical-align: middle;\n",
       "    }\n",
       "\n",
       "    .dataframe tbody tr th {\n",
       "        vertical-align: top;\n",
       "    }\n",
       "\n",
       "    .dataframe thead th {\n",
       "        text-align: right;\n",
       "    }\n",
       "</style>\n",
       "<table border=\"1\" class=\"dataframe\">\n",
       "  <thead>\n",
       "    <tr style=\"text-align: right;\">\n",
       "      <th></th>\n",
       "      <th>Sr No</th>\n",
       "      <th>Date dd/mm/yyyy</th>\n",
       "      <th>Startup Name</th>\n",
       "      <th>Industry Vertical</th>\n",
       "      <th>SubVertical</th>\n",
       "      <th>City  Location</th>\n",
       "      <th>Investors Name</th>\n",
       "      <th>InvestmentnType</th>\n",
       "      <th>Amount in USD</th>\n",
       "      <th>Remarks</th>\n",
       "    </tr>\n",
       "  </thead>\n",
       "  <tbody>\n",
       "    <tr>\n",
       "      <th>2267</th>\n",
       "      <td>2268</td>\n",
       "      <td>24/11/2015</td>\n",
       "      <td>Naaptol</td>\n",
       "      <td>Online and TV Shopping Marketplace</td>\n",
       "      <td>NaN</td>\n",
       "      <td>Mumbai</td>\n",
       "      <td>Mitsui &amp; Co., New Enterprise Associates, Canaa...</td>\n",
       "      <td>Private Equity</td>\n",
       "      <td>5,20,00,000</td>\n",
       "      <td>Late Stage</td>\n",
       "    </tr>\n",
       "    <tr>\n",
       "      <th>1169</th>\n",
       "      <td>1170</td>\n",
       "      <td>22/12/2016</td>\n",
       "      <td>Innoplexus</td>\n",
       "      <td>Technology</td>\n",
       "      <td>Data as a Service Provider</td>\n",
       "      <td>Pune</td>\n",
       "      <td>HCS Venture capital fund</td>\n",
       "      <td>Private Equity</td>\n",
       "      <td>NaN</td>\n",
       "      <td>NaN</td>\n",
       "    </tr>\n",
       "    <tr>\n",
       "      <th>1560</th>\n",
       "      <td>1561</td>\n",
       "      <td>21/07/2016</td>\n",
       "      <td>AbeRuk</td>\n",
       "      <td>eCommerce</td>\n",
       "      <td>Online Marketplace for books</td>\n",
       "      <td>Bangalore</td>\n",
       "      <td>Swastika Company Pvt Ltd</td>\n",
       "      <td>Seed Funding</td>\n",
       "      <td>NaN</td>\n",
       "      <td>NaN</td>\n",
       "    </tr>\n",
       "  </tbody>\n",
       "</table>\n",
       "</div>"
      ],
      "text/plain": [
       "      Sr No Date dd/mm/yyyy Startup Name                   Industry Vertical  \\\n",
       "2267   2268      24/11/2015      Naaptol  Online and TV Shopping Marketplace   \n",
       "1169   1170      22/12/2016   Innoplexus                          Technology   \n",
       "1560   1561      21/07/2016       AbeRuk                           eCommerce   \n",
       "\n",
       "                       SubVertical City  Location  \\\n",
       "2267                           NaN         Mumbai   \n",
       "1169    Data as a Service Provider           Pune   \n",
       "1560  Online Marketplace for books      Bangalore   \n",
       "\n",
       "                                         Investors Name InvestmentnType  \\\n",
       "2267  Mitsui & Co., New Enterprise Associates, Canaa...  Private Equity   \n",
       "1169                           HCS Venture capital fund  Private Equity   \n",
       "1560                           Swastika Company Pvt Ltd    Seed Funding   \n",
       "\n",
       "     Amount in USD     Remarks  \n",
       "2267   5,20,00,000  Late Stage  \n",
       "1169           NaN         NaN  \n",
       "1560           NaN         NaN  "
      ]
     },
     "execution_count": 26,
     "metadata": {},
     "output_type": "execute_result"
    }
   ],
   "source": [
    "startup.sample(3)"
   ]
  },
  {
   "cell_type": "code",
   "execution_count": 27,
   "id": "9b5646f0-b685-48b0-965b-6148165d5c98",
   "metadata": {},
   "outputs": [
    {
     "name": "stdout",
     "output_type": "stream",
     "text": [
      "<class 'pandas.core.frame.DataFrame'>\n",
      "RangeIndex: 3044 entries, 0 to 3043\n",
      "Data columns (total 10 columns):\n",
      " #   Column             Non-Null Count  Dtype \n",
      "---  ------             --------------  ----- \n",
      " 0   Sr No              3044 non-null   int64 \n",
      " 1   Date dd/mm/yyyy    3044 non-null   object\n",
      " 2   Startup Name       3044 non-null   object\n",
      " 3   Industry Vertical  2873 non-null   object\n",
      " 4   SubVertical        2108 non-null   object\n",
      " 5   City  Location     2864 non-null   object\n",
      " 6   Investors Name     3020 non-null   object\n",
      " 7   InvestmentnType    3040 non-null   object\n",
      " 8   Amount in USD      2084 non-null   object\n",
      " 9   Remarks            419 non-null    object\n",
      "dtypes: int64(1), object(9)\n",
      "memory usage: 237.9+ KB\n"
     ]
    }
   ],
   "source": [
    "startup.info()"
   ]
  },
  {
   "cell_type": "code",
   "execution_count": 28,
   "id": "a92cd266-09ce-47f3-8182-de1ab9f7988e",
   "metadata": {},
   "outputs": [
    {
     "data": {
      "text/plain": [
       "Sr No                 0.000000\n",
       "Date dd/mm/yyyy       0.000000\n",
       "Startup Name          0.000000\n",
       "Industry Vertical     5.617608\n",
       "SubVertical          30.749014\n",
       "City  Location        5.913272\n",
       "Investors Name        0.788436\n",
       "InvestmentnType       0.131406\n",
       "Amount in USD        31.537451\n",
       "Remarks              86.235217\n",
       "dtype: float64"
      ]
     },
     "execution_count": 28,
     "metadata": {},
     "output_type": "execute_result"
    }
   ],
   "source": [
    "startup.isnull().mean()*100"
   ]
  },
  {
   "cell_type": "code",
   "execution_count": 30,
   "id": "88fdb810-be72-471d-a8f8-88db6684756a",
   "metadata": {},
   "outputs": [],
   "source": [
    "#Since the column remarks has more than 75% missing value, I'll remove the column.\n",
    "startup.drop(columns=['Remarks'],inplace=True)"
   ]
  },
  {
   "cell_type": "code",
   "execution_count": 31,
   "id": "b9b41363-d8a5-442e-93b9-2e26a6be145b",
   "metadata": {},
   "outputs": [
    {
     "data": {
      "text/plain": [
       "(3044, 9)"
      ]
     },
     "execution_count": 31,
     "metadata": {},
     "output_type": "execute_result"
    }
   ],
   "source": [
    "startup.shape"
   ]
  },
  {
   "cell_type": "code",
   "execution_count": 33,
   "id": "094418d6-c6a6-43cb-91f0-923d7523a803",
   "metadata": {},
   "outputs": [],
   "source": [
    "startup.set_index('Sr No',inplace=True)"
   ]
  },
  {
   "cell_type": "code",
   "execution_count": 39,
   "id": "9a025336-abb3-4821-bda7-f17270860022",
   "metadata": {},
   "outputs": [],
   "source": [
    "startup.rename(columns={\n",
    "    'Date dd/mm/yyyy':'date',\n",
    "    'Startup Name':'startup',\n",
    "    'Industry Vertical':'vertical',\n",
    "    'SubVertical':'subvertical',\n",
    "    'City  Location':'city',\n",
    "    'Investors Name':'investor',\n",
    "    'InvestmentnType':'round',\n",
    "    'Amount in USD':'amount'   \n",
    "},inplace=True)"
   ]
  },
  {
   "cell_type": "code",
   "execution_count": 40,
   "id": "8309752d-9bc6-4f83-882c-9db2e5ef1bba",
   "metadata": {},
   "outputs": [
    {
     "data": {
      "text/plain": [
       "99.08015768725362"
      ]
     },
     "execution_count": 40,
     "metadata": {},
     "output_type": "execute_result"
    }
   ],
   "source": [
    "(len(startup.dropna(subset=['round','investor']))/startup.shape[0])*100"
   ]
  },
  {
   "cell_type": "code",
   "execution_count": 41,
   "id": "c416a812-23fb-4351-857b-202638bdd5d0",
   "metadata": {},
   "outputs": [],
   "source": [
    "startup.dropna(subset=['round','investor'],inplace=True)"
   ]
  },
  {
   "cell_type": "markdown",
   "id": "e93f61f0-2cde-422c-8ea1-035aced94cdc",
   "metadata": {},
   "source": [
    "Since we will only lose on 1% of our data I'll assume that the values are missing completely at random and remove the missing values in features: InvestmentnType & Investors Name."
   ]
  },
  {
   "cell_type": "code",
   "execution_count": 8,
   "id": "77f0b782-d918-421f-87a6-0a981f98ade4",
   "metadata": {},
   "outputs": [
    {
     "data": {
      "text/plain": [
       "Sr No                 0.000000\n",
       "Date dd/mm/yyyy       0.000000\n",
       "Startup Name          0.000000\n",
       "Industry Vertical     5.669761\n",
       "SubVertical          30.835544\n",
       "City  Location        5.968170\n",
       "Investors Name        0.000000\n",
       "InvestmentnType       0.000000\n",
       "Amount in USD        31.664456\n",
       "Remarks              86.140584\n",
       "dtype: float64"
      ]
     },
     "execution_count": 8,
     "metadata": {},
     "output_type": "execute_result"
    }
   ],
   "source": [
    "startup.isnull().mean()*100"
   ]
  },
  {
   "cell_type": "code",
   "execution_count": 42,
   "id": "0262c83a-b8b0-406b-a860-6ec18c8aafbb",
   "metadata": {},
   "outputs": [
    {
     "data": {
      "text/plain": [
       "465"
      ]
     },
     "execution_count": 42,
     "metadata": {},
     "output_type": "execute_result"
    }
   ],
   "source": [
    "startup['amount'].nunique() "
   ]
  },
  {
   "cell_type": "code",
   "execution_count": 43,
   "id": "bffd89a1-caec-41dc-878b-17b0e57b81e7",
   "metadata": {},
   "outputs": [],
   "source": [
    "cleaned_startup=startup[~startup['amount'].str.lower().isin(['unknown','undisclosed'])]"
   ]
  },
  {
   "cell_type": "code",
   "execution_count": 44,
   "id": "4ec7184b-d80e-469c-9ea8-25d33373274b",
   "metadata": {},
   "outputs": [
    {
     "name": "stderr",
     "output_type": "stream",
     "text": [
      "C:\\Users\\khadk\\AppData\\Local\\Temp\\ipykernel_20652\\1406352562.py:1: SettingWithCopyWarning: \n",
      "A value is trying to be set on a copy of a slice from a DataFrame.\n",
      "Try using .loc[row_indexer,col_indexer] = value instead\n",
      "\n",
      "See the caveats in the documentation: https://pandas.pydata.org/pandas-docs/stable/user_guide/indexing.html#returning-a-view-versus-a-copy\n",
      "  cleaned_startup['amount']=cleaned_startup['amount'].str.replace(',','')\n"
     ]
    }
   ],
   "source": [
    "cleaned_startup['amount']=cleaned_startup['amount'].str.replace(',','')"
   ]
  },
  {
   "cell_type": "code",
   "execution_count": 46,
   "id": "2abef21e-0d92-41f1-bfbc-75cb121795e9",
   "metadata": {},
   "outputs": [
    {
     "name": "stderr",
     "output_type": "stream",
     "text": [
      "C:\\Users\\khadk\\AppData\\Local\\Temp\\ipykernel_20652\\3393611794.py:1: SettingWithCopyWarning: \n",
      "A value is trying to be set on a copy of a slice from a DataFrame.\n",
      "Try using .loc[row_indexer,col_indexer] = value instead\n",
      "\n",
      "See the caveats in the documentation: https://pandas.pydata.org/pandas-docs/stable/user_guide/indexing.html#returning-a-view-versus-a-copy\n",
      "  cleaned_startup['amount']=cleaned_startup['amount'].fillna('0')\n"
     ]
    }
   ],
   "source": [
    "cleaned_startup['amount']=cleaned_startup['amount'].fillna('0')"
   ]
  },
  {
   "cell_type": "code",
   "execution_count": 47,
   "id": "42782929-c583-435c-8258-037ed6b24e0c",
   "metadata": {},
   "outputs": [
    {
     "data": {
      "text/html": [
       "<div>\n",
       "<style scoped>\n",
       "    .dataframe tbody tr th:only-of-type {\n",
       "        vertical-align: middle;\n",
       "    }\n",
       "\n",
       "    .dataframe tbody tr th {\n",
       "        vertical-align: top;\n",
       "    }\n",
       "\n",
       "    .dataframe thead th {\n",
       "        text-align: right;\n",
       "    }\n",
       "</style>\n",
       "<table border=\"1\" class=\"dataframe\">\n",
       "  <thead>\n",
       "    <tr style=\"text-align: right;\">\n",
       "      <th></th>\n",
       "      <th>date</th>\n",
       "      <th>startup</th>\n",
       "      <th>vertical</th>\n",
       "      <th>subvertical</th>\n",
       "      <th>city</th>\n",
       "      <th>investor</th>\n",
       "      <th>round</th>\n",
       "      <th>amount</th>\n",
       "    </tr>\n",
       "    <tr>\n",
       "      <th>Sr No</th>\n",
       "      <th></th>\n",
       "      <th></th>\n",
       "      <th></th>\n",
       "      <th></th>\n",
       "      <th></th>\n",
       "      <th></th>\n",
       "      <th></th>\n",
       "      <th></th>\n",
       "    </tr>\n",
       "  </thead>\n",
       "  <tbody>\n",
       "    <tr>\n",
       "      <th>1</th>\n",
       "      <td>09/01/2020</td>\n",
       "      <td>BYJU’S</td>\n",
       "      <td>E-Tech</td>\n",
       "      <td>E-learning</td>\n",
       "      <td>Bengaluru</td>\n",
       "      <td>Tiger Global Management</td>\n",
       "      <td>Private Equity Round</td>\n",
       "      <td>200000000</td>\n",
       "    </tr>\n",
       "    <tr>\n",
       "      <th>2</th>\n",
       "      <td>13/01/2020</td>\n",
       "      <td>Shuttl</td>\n",
       "      <td>Transportation</td>\n",
       "      <td>App based shuttle service</td>\n",
       "      <td>Gurgaon</td>\n",
       "      <td>Susquehanna Growth Equity</td>\n",
       "      <td>Series C</td>\n",
       "      <td>8048394</td>\n",
       "    </tr>\n",
       "    <tr>\n",
       "      <th>3</th>\n",
       "      <td>09/01/2020</td>\n",
       "      <td>Mamaearth</td>\n",
       "      <td>E-commerce</td>\n",
       "      <td>Retailer of baby and toddler products</td>\n",
       "      <td>Bengaluru</td>\n",
       "      <td>Sequoia Capital India</td>\n",
       "      <td>Series B</td>\n",
       "      <td>18358860</td>\n",
       "    </tr>\n",
       "    <tr>\n",
       "      <th>4</th>\n",
       "      <td>02/01/2020</td>\n",
       "      <td>https://www.wealthbucket.in/</td>\n",
       "      <td>FinTech</td>\n",
       "      <td>Online Investment</td>\n",
       "      <td>New Delhi</td>\n",
       "      <td>Vinod Khatumal</td>\n",
       "      <td>Pre-series A</td>\n",
       "      <td>3000000</td>\n",
       "    </tr>\n",
       "    <tr>\n",
       "      <th>5</th>\n",
       "      <td>02/01/2020</td>\n",
       "      <td>Fashor</td>\n",
       "      <td>Fashion and Apparel</td>\n",
       "      <td>Embroiled Clothes For Women</td>\n",
       "      <td>Mumbai</td>\n",
       "      <td>Sprout Venture Partners</td>\n",
       "      <td>Seed Round</td>\n",
       "      <td>1800000</td>\n",
       "    </tr>\n",
       "    <tr>\n",
       "      <th>...</th>\n",
       "      <td>...</td>\n",
       "      <td>...</td>\n",
       "      <td>...</td>\n",
       "      <td>...</td>\n",
       "      <td>...</td>\n",
       "      <td>...</td>\n",
       "      <td>...</td>\n",
       "      <td>...</td>\n",
       "    </tr>\n",
       "    <tr>\n",
       "      <th>3040</th>\n",
       "      <td>29/01/2015</td>\n",
       "      <td>Printvenue</td>\n",
       "      <td>NaN</td>\n",
       "      <td>NaN</td>\n",
       "      <td>NaN</td>\n",
       "      <td>Asia Pacific Internet Group</td>\n",
       "      <td>Private Equity</td>\n",
       "      <td>4500000</td>\n",
       "    </tr>\n",
       "    <tr>\n",
       "      <th>3041</th>\n",
       "      <td>29/01/2015</td>\n",
       "      <td>Graphene</td>\n",
       "      <td>NaN</td>\n",
       "      <td>NaN</td>\n",
       "      <td>NaN</td>\n",
       "      <td>KARSEMVEN Fund</td>\n",
       "      <td>Private Equity</td>\n",
       "      <td>825000</td>\n",
       "    </tr>\n",
       "    <tr>\n",
       "      <th>3042</th>\n",
       "      <td>30/01/2015</td>\n",
       "      <td>Mad Street Den</td>\n",
       "      <td>NaN</td>\n",
       "      <td>NaN</td>\n",
       "      <td>NaN</td>\n",
       "      <td>Exfinity Fund, GrowX Ventures.</td>\n",
       "      <td>Private Equity</td>\n",
       "      <td>1500000</td>\n",
       "    </tr>\n",
       "    <tr>\n",
       "      <th>3043</th>\n",
       "      <td>30/01/2015</td>\n",
       "      <td>Simplotel</td>\n",
       "      <td>NaN</td>\n",
       "      <td>NaN</td>\n",
       "      <td>NaN</td>\n",
       "      <td>MakeMyTrip</td>\n",
       "      <td>Private Equity</td>\n",
       "      <td>0</td>\n",
       "    </tr>\n",
       "    <tr>\n",
       "      <th>3044</th>\n",
       "      <td>31/01/2015</td>\n",
       "      <td>couponmachine.in</td>\n",
       "      <td>NaN</td>\n",
       "      <td>NaN</td>\n",
       "      <td>NaN</td>\n",
       "      <td>UK based Group of Angel Investors</td>\n",
       "      <td>Seed Funding</td>\n",
       "      <td>140000</td>\n",
       "    </tr>\n",
       "  </tbody>\n",
       "</table>\n",
       "<p>2996 rows × 8 columns</p>\n",
       "</div>"
      ],
      "text/plain": [
       "             date                       startup             vertical  \\\n",
       "Sr No                                                                  \n",
       "1      09/01/2020                        BYJU’S               E-Tech   \n",
       "2      13/01/2020                        Shuttl       Transportation   \n",
       "3      09/01/2020                     Mamaearth           E-commerce   \n",
       "4      02/01/2020  https://www.wealthbucket.in/              FinTech   \n",
       "5      02/01/2020                        Fashor  Fashion and Apparel   \n",
       "...           ...                           ...                  ...   \n",
       "3040   29/01/2015                    Printvenue                  NaN   \n",
       "3041   29/01/2015                      Graphene                  NaN   \n",
       "3042   30/01/2015                Mad Street Den                  NaN   \n",
       "3043   30/01/2015                     Simplotel                  NaN   \n",
       "3044   31/01/2015              couponmachine.in                  NaN   \n",
       "\n",
       "                                 subvertical       city  \\\n",
       "Sr No                                                     \n",
       "1                                 E-learning  Bengaluru   \n",
       "2                  App based shuttle service    Gurgaon   \n",
       "3      Retailer of baby and toddler products  Bengaluru   \n",
       "4                          Online Investment  New Delhi   \n",
       "5                Embroiled Clothes For Women     Mumbai   \n",
       "...                                      ...        ...   \n",
       "3040                                     NaN        NaN   \n",
       "3041                                     NaN        NaN   \n",
       "3042                                     NaN        NaN   \n",
       "3043                                     NaN        NaN   \n",
       "3044                                     NaN        NaN   \n",
       "\n",
       "                                investor                 round     amount  \n",
       "Sr No                                                                      \n",
       "1                Tiger Global Management  Private Equity Round  200000000  \n",
       "2              Susquehanna Growth Equity              Series C    8048394  \n",
       "3                  Sequoia Capital India              Series B   18358860  \n",
       "4                         Vinod Khatumal          Pre-series A    3000000  \n",
       "5                Sprout Venture Partners            Seed Round    1800000  \n",
       "...                                  ...                   ...        ...  \n",
       "3040         Asia Pacific Internet Group        Private Equity    4500000  \n",
       "3041                      KARSEMVEN Fund        Private Equity     825000  \n",
       "3042      Exfinity Fund, GrowX Ventures.        Private Equity    1500000  \n",
       "3043                          MakeMyTrip        Private Equity          0  \n",
       "3044   UK based Group of Angel Investors          Seed Funding     140000  \n",
       "\n",
       "[2996 rows x 8 columns]"
      ]
     },
     "execution_count": 47,
     "metadata": {},
     "output_type": "execute_result"
    }
   ],
   "source": [
    "cleaned_startup=cleaned_startup[cleaned_startup['amount'].str.isdigit()]\n",
    "cleaned_startup"
   ]
  },
  {
   "cell_type": "code",
   "execution_count": 48,
   "id": "d74fbffc-a400-4841-aa7f-607bf8e56bb5",
   "metadata": {},
   "outputs": [
    {
     "name": "stderr",
     "output_type": "stream",
     "text": [
      "C:\\Users\\khadk\\AppData\\Local\\Temp\\ipykernel_20652\\2781312995.py:1: SettingWithCopyWarning: \n",
      "A value is trying to be set on a copy of a slice from a DataFrame.\n",
      "Try using .loc[row_indexer,col_indexer] = value instead\n",
      "\n",
      "See the caveats in the documentation: https://pandas.pydata.org/pandas-docs/stable/user_guide/indexing.html#returning-a-view-versus-a-copy\n",
      "  cleaned_startup['amount']=cleaned_startup['amount'].astype(int)\n"
     ]
    },
    {
     "data": {
      "text/html": [
       "<div>\n",
       "<style scoped>\n",
       "    .dataframe tbody tr th:only-of-type {\n",
       "        vertical-align: middle;\n",
       "    }\n",
       "\n",
       "    .dataframe tbody tr th {\n",
       "        vertical-align: top;\n",
       "    }\n",
       "\n",
       "    .dataframe thead th {\n",
       "        text-align: right;\n",
       "    }\n",
       "</style>\n",
       "<table border=\"1\" class=\"dataframe\">\n",
       "  <thead>\n",
       "    <tr style=\"text-align: right;\">\n",
       "      <th></th>\n",
       "      <th>date</th>\n",
       "      <th>startup</th>\n",
       "      <th>vertical</th>\n",
       "      <th>subvertical</th>\n",
       "      <th>city</th>\n",
       "      <th>investor</th>\n",
       "      <th>round</th>\n",
       "      <th>amount</th>\n",
       "    </tr>\n",
       "    <tr>\n",
       "      <th>Sr No</th>\n",
       "      <th></th>\n",
       "      <th></th>\n",
       "      <th></th>\n",
       "      <th></th>\n",
       "      <th></th>\n",
       "      <th></th>\n",
       "      <th></th>\n",
       "      <th></th>\n",
       "    </tr>\n",
       "  </thead>\n",
       "  <tbody>\n",
       "    <tr>\n",
       "      <th>1</th>\n",
       "      <td>09/01/2020</td>\n",
       "      <td>BYJU’S</td>\n",
       "      <td>E-Tech</td>\n",
       "      <td>E-learning</td>\n",
       "      <td>Bengaluru</td>\n",
       "      <td>Tiger Global Management</td>\n",
       "      <td>Private Equity Round</td>\n",
       "      <td>200000000</td>\n",
       "    </tr>\n",
       "    <tr>\n",
       "      <th>2</th>\n",
       "      <td>13/01/2020</td>\n",
       "      <td>Shuttl</td>\n",
       "      <td>Transportation</td>\n",
       "      <td>App based shuttle service</td>\n",
       "      <td>Gurgaon</td>\n",
       "      <td>Susquehanna Growth Equity</td>\n",
       "      <td>Series C</td>\n",
       "      <td>8048394</td>\n",
       "    </tr>\n",
       "    <tr>\n",
       "      <th>3</th>\n",
       "      <td>09/01/2020</td>\n",
       "      <td>Mamaearth</td>\n",
       "      <td>E-commerce</td>\n",
       "      <td>Retailer of baby and toddler products</td>\n",
       "      <td>Bengaluru</td>\n",
       "      <td>Sequoia Capital India</td>\n",
       "      <td>Series B</td>\n",
       "      <td>18358860</td>\n",
       "    </tr>\n",
       "    <tr>\n",
       "      <th>4</th>\n",
       "      <td>02/01/2020</td>\n",
       "      <td>https://www.wealthbucket.in/</td>\n",
       "      <td>FinTech</td>\n",
       "      <td>Online Investment</td>\n",
       "      <td>New Delhi</td>\n",
       "      <td>Vinod Khatumal</td>\n",
       "      <td>Pre-series A</td>\n",
       "      <td>3000000</td>\n",
       "    </tr>\n",
       "    <tr>\n",
       "      <th>5</th>\n",
       "      <td>02/01/2020</td>\n",
       "      <td>Fashor</td>\n",
       "      <td>Fashion and Apparel</td>\n",
       "      <td>Embroiled Clothes For Women</td>\n",
       "      <td>Mumbai</td>\n",
       "      <td>Sprout Venture Partners</td>\n",
       "      <td>Seed Round</td>\n",
       "      <td>1800000</td>\n",
       "    </tr>\n",
       "    <tr>\n",
       "      <th>...</th>\n",
       "      <td>...</td>\n",
       "      <td>...</td>\n",
       "      <td>...</td>\n",
       "      <td>...</td>\n",
       "      <td>...</td>\n",
       "      <td>...</td>\n",
       "      <td>...</td>\n",
       "      <td>...</td>\n",
       "    </tr>\n",
       "    <tr>\n",
       "      <th>3040</th>\n",
       "      <td>29/01/2015</td>\n",
       "      <td>Printvenue</td>\n",
       "      <td>NaN</td>\n",
       "      <td>NaN</td>\n",
       "      <td>NaN</td>\n",
       "      <td>Asia Pacific Internet Group</td>\n",
       "      <td>Private Equity</td>\n",
       "      <td>4500000</td>\n",
       "    </tr>\n",
       "    <tr>\n",
       "      <th>3041</th>\n",
       "      <td>29/01/2015</td>\n",
       "      <td>Graphene</td>\n",
       "      <td>NaN</td>\n",
       "      <td>NaN</td>\n",
       "      <td>NaN</td>\n",
       "      <td>KARSEMVEN Fund</td>\n",
       "      <td>Private Equity</td>\n",
       "      <td>825000</td>\n",
       "    </tr>\n",
       "    <tr>\n",
       "      <th>3042</th>\n",
       "      <td>30/01/2015</td>\n",
       "      <td>Mad Street Den</td>\n",
       "      <td>NaN</td>\n",
       "      <td>NaN</td>\n",
       "      <td>NaN</td>\n",
       "      <td>Exfinity Fund, GrowX Ventures.</td>\n",
       "      <td>Private Equity</td>\n",
       "      <td>1500000</td>\n",
       "    </tr>\n",
       "    <tr>\n",
       "      <th>3043</th>\n",
       "      <td>30/01/2015</td>\n",
       "      <td>Simplotel</td>\n",
       "      <td>NaN</td>\n",
       "      <td>NaN</td>\n",
       "      <td>NaN</td>\n",
       "      <td>MakeMyTrip</td>\n",
       "      <td>Private Equity</td>\n",
       "      <td>0</td>\n",
       "    </tr>\n",
       "    <tr>\n",
       "      <th>3044</th>\n",
       "      <td>31/01/2015</td>\n",
       "      <td>couponmachine.in</td>\n",
       "      <td>NaN</td>\n",
       "      <td>NaN</td>\n",
       "      <td>NaN</td>\n",
       "      <td>UK based Group of Angel Investors</td>\n",
       "      <td>Seed Funding</td>\n",
       "      <td>140000</td>\n",
       "    </tr>\n",
       "  </tbody>\n",
       "</table>\n",
       "<p>2996 rows × 8 columns</p>\n",
       "</div>"
      ],
      "text/plain": [
       "             date                       startup             vertical  \\\n",
       "Sr No                                                                  \n",
       "1      09/01/2020                        BYJU’S               E-Tech   \n",
       "2      13/01/2020                        Shuttl       Transportation   \n",
       "3      09/01/2020                     Mamaearth           E-commerce   \n",
       "4      02/01/2020  https://www.wealthbucket.in/              FinTech   \n",
       "5      02/01/2020                        Fashor  Fashion and Apparel   \n",
       "...           ...                           ...                  ...   \n",
       "3040   29/01/2015                    Printvenue                  NaN   \n",
       "3041   29/01/2015                      Graphene                  NaN   \n",
       "3042   30/01/2015                Mad Street Den                  NaN   \n",
       "3043   30/01/2015                     Simplotel                  NaN   \n",
       "3044   31/01/2015              couponmachine.in                  NaN   \n",
       "\n",
       "                                 subvertical       city  \\\n",
       "Sr No                                                     \n",
       "1                                 E-learning  Bengaluru   \n",
       "2                  App based shuttle service    Gurgaon   \n",
       "3      Retailer of baby and toddler products  Bengaluru   \n",
       "4                          Online Investment  New Delhi   \n",
       "5                Embroiled Clothes For Women     Mumbai   \n",
       "...                                      ...        ...   \n",
       "3040                                     NaN        NaN   \n",
       "3041                                     NaN        NaN   \n",
       "3042                                     NaN        NaN   \n",
       "3043                                     NaN        NaN   \n",
       "3044                                     NaN        NaN   \n",
       "\n",
       "                                investor                 round     amount  \n",
       "Sr No                                                                      \n",
       "1                Tiger Global Management  Private Equity Round  200000000  \n",
       "2              Susquehanna Growth Equity              Series C    8048394  \n",
       "3                  Sequoia Capital India              Series B   18358860  \n",
       "4                         Vinod Khatumal          Pre-series A    3000000  \n",
       "5                Sprout Venture Partners            Seed Round    1800000  \n",
       "...                                  ...                   ...        ...  \n",
       "3040         Asia Pacific Internet Group        Private Equity    4500000  \n",
       "3041                      KARSEMVEN Fund        Private Equity     825000  \n",
       "3042      Exfinity Fund, GrowX Ventures.        Private Equity    1500000  \n",
       "3043                          MakeMyTrip        Private Equity          0  \n",
       "3044   UK based Group of Angel Investors          Seed Funding     140000  \n",
       "\n",
       "[2996 rows x 8 columns]"
      ]
     },
     "execution_count": 48,
     "metadata": {},
     "output_type": "execute_result"
    }
   ],
   "source": [
    "cleaned_startup['amount']=cleaned_startup['amount'].astype(int)\n",
    "cleaned_startup"
   ]
  },
  {
   "cell_type": "code",
   "execution_count": 49,
   "id": "aee9df88-6cb0-44cf-875b-998ea00c2798",
   "metadata": {},
   "outputs": [],
   "source": [
    "#convert USD to Rs in crore:\n",
    "def convert_amount(amount):\n",
    "    amount=amount*85;\n",
    "    amount=amount/10000000;\n",
    "    return amount\n",
    "    "
   ]
  },
  {
   "cell_type": "code",
   "execution_count": 50,
   "id": "ce700198-0755-4bc1-8341-f749ed348522",
   "metadata": {},
   "outputs": [
    {
     "data": {
      "text/plain": [
       "1700.0"
      ]
     },
     "execution_count": 50,
     "metadata": {},
     "output_type": "execute_result"
    }
   ],
   "source": [
    "convert_amount(200000000)"
   ]
  },
  {
   "cell_type": "code",
   "execution_count": 51,
   "id": "c7c62b99-d77b-4335-bc5b-8a504d98d41b",
   "metadata": {},
   "outputs": [
    {
     "name": "stderr",
     "output_type": "stream",
     "text": [
      "C:\\Users\\khadk\\AppData\\Local\\Temp\\ipykernel_20652\\3896158759.py:1: SettingWithCopyWarning: \n",
      "A value is trying to be set on a copy of a slice from a DataFrame.\n",
      "Try using .loc[row_indexer,col_indexer] = value instead\n",
      "\n",
      "See the caveats in the documentation: https://pandas.pydata.org/pandas-docs/stable/user_guide/indexing.html#returning-a-view-versus-a-copy\n",
      "  cleaned_startup['amount']=cleaned_startup['amount'].apply(convert_amount)\n"
     ]
    }
   ],
   "source": [
    "cleaned_startup['amount']=cleaned_startup['amount'].apply(convert_amount)"
   ]
  },
  {
   "cell_type": "code",
   "execution_count": 52,
   "id": "9c878456-cc5d-47e5-8f25-4145ac41d679",
   "metadata": {},
   "outputs": [
    {
     "data": {
      "image/png": "[encoded data removed]",
      "text/plain": [
       "<Figure size 1000x600 with 2 Axes>"
      ]
     },
     "metadata": {},
     "output_type": "display_data"
    }
   ],
   "source": [
    "fig,ax=plt.subplots(nrows=1,ncols=2,figsize=(10,6))\n",
    "\n",
    "sns.kdeplot(data=cleaned_startup,x='amount',fill=True,ax=ax[0])\n",
    "sns.boxplot(data=cleaned_startup,y='amount',ax=ax[1])\n",
    "\n",
    "plt.show()"
   ]
  },
  {
   "cell_type": "code",
   "execution_count": 53,
   "id": "d8815d12-12e3-40c6-98f5-30b02e73e923",
   "metadata": {},
   "outputs": [
    {
     "name": "stdout",
     "output_type": "stream",
     "text": [
      "The skewness of the data is:26.981087328032633\n"
     ]
    }
   ],
   "source": [
    "print(f\"The skewness of the data is:{cleaned_startup['amount'].skew()}\")"
   ]
  },
  {
   "cell_type": "markdown",
   "id": "4fb4ada4-51b5-46bc-905c-6a58cd09e3a1",
   "metadata": {},
   "source": [
    "There are couple of issues with the amount feature. There are 465 unique values in this feature along with  a lot of missing values. I also found the some sub-categorizes of the features are unknown, undisclosed which might be due to people not wanting to share information about their finances and values like ('\\\\\\\\xc2\\\\\\\\xa016,200,000') which might be due to incorrect encoding. For unknown and undisclosed I have replaced it with zero and just choosen the value that are only digits. Then I have converted it to crore."
   ]
  },
  {
   "cell_type": "code",
   "execution_count": 64,
   "id": "8c80d005-cbaa-40fc-b7da-46552d6eebe7",
   "metadata": {},
   "outputs": [],
   "source": [
    "startup['date']=pd.to_datetime(startup['date'],errors='coerce')"
   ]
  },
  {
   "cell_type": "markdown",
   "id": "dc59805a-2f88-47dd-92f6-c48d65e35d98",
   "metadata": {},
   "source": [
    "We we are converting the date object into date time and ignoring all the columns where the date doesnot follow the desired format."
   ]
  }
 ],
 "metadata": {
  "kernelspec": {
   "display_name": "Python 3 (ipykernel)",
   "language": "python",
   "name": "python3"
  },
  "language_info": {
   "codemirror_mode": {
    "name": "ipython",
    "version": 3
   },
   "file_extension": ".py",
   "mimetype": "text/x-python",
   "name": "python",
   "nbconvert_exporter": "python",
   "pygments_lexer": "ipython3",
   "version": "3.13.0"
  }
 },
 "nbformat": 4,
 "nbformat_minor": 5
}
